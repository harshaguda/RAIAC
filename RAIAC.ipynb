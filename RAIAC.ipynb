{
  "nbformat": 4,
  "nbformat_minor": 0,
  "metadata": {
    "colab": {
      "name": "RAIAC.ipynb",
      "provenance": [],
      "collapsed_sections": [],
      "authorship_tag": "ABX9TyPlcxxdUaPzh9TQJwIeX9VN",
      "include_colab_link": true
    },
    "kernelspec": {
      "name": "python3",
      "display_name": "Python 3"
    },
    "accelerator": "GPU"
  },
  "cells": [
    {
      "cell_type": "markdown",
      "metadata": {
        "id": "view-in-github",
        "colab_type": "text"
      },
      "source": [
        "<a href=\"https://colab.research.google.com/github/harshavardhanguda/RAIAC/blob/master/RAIAC.ipynb\" target=\"_parent\"><img src=\"https://colab.research.google.com/assets/colab-badge.svg\" alt=\"Open In Colab\"/></a>"
      ]
    },
    {
      "cell_type": "markdown",
      "metadata": {
        "id": "rCP8Tka_q9Jl",
        "colab_type": "text"
      },
      "source": [
        "### Import libraries"
      ]
    },
    {
      "cell_type": "code",
      "metadata": {
        "id": "WAeU4Xl7oA9t",
        "colab_type": "code",
        "colab": {
          "base_uri": "https://localhost:8080/",
          "height": 63
        },
        "outputId": "91da2168-1543-4ae7-f9ea-82bdae105fc6"
      },
      "source": [
        "import numpy\n",
        "import tensorflow as tf\n",
        "from tensorflow.keras import layers\n",
        "import matplotlib.pyplot as plot\n",
        "from tensorflow.keras import backend as k\n",
        "from tensorflow.keras.datasets import mnist"
      ],
      "execution_count": 1,
      "outputs": [
        {
          "output_type": "display_data",
          "data": {
            "text/html": [
              "<p style=\"color: red;\">\n",
              "The default version of TensorFlow in Colab will soon switch to TensorFlow 2.x.<br>\n",
              "We recommend you <a href=\"https://www.tensorflow.org/guide/migrate\" target=\"_blank\">upgrade</a> now \n",
              "or ensure your notebook will continue to use TensorFlow 1.x via the <code>%tensorflow_version 1.x</code> magic:\n",
              "<a href=\"https://colab.research.google.com/notebooks/tensorflow_version.ipynb\" target=\"_blank\">more info</a>.</p>\n"
            ],
            "text/plain": [
              "<IPython.core.display.HTML object>"
            ]
          },
          "metadata": {
            "tags": []
          }
        }
      ]
    },
    {
      "cell_type": "markdown",
      "metadata": {
        "id": "ZGsZYiR-rOAJ",
        "colab_type": "text"
      },
      "source": [
        "### Load Data"
      ]
    },
    {
      "cell_type": "code",
      "metadata": {
        "id": "xfu7VTuSqHJq",
        "colab_type": "code",
        "colab": {
          "base_uri": "https://localhost:8080/",
          "height": 51
        },
        "outputId": "26fb4e34-166c-4671-a0ec-4e5ca49f0e95"
      },
      "source": [
        "(x_train,y_train),(x_test,y_test) = mnist.load_data()\n",
        "x_train = x_train.astype('float32')/255.0\n",
        "x_test = x_test.astype('float32')/255.0\n",
        "num_classes = 10\n",
        "y_train = tf.keras.utils.to_categorical(y_train, num_classes)\n",
        "y_test = tf.keras.utils.to_categorical(y_test, num_classes)"
      ],
      "execution_count": 2,
      "outputs": [
        {
          "output_type": "stream",
          "text": [
            "Downloading data from https://storage.googleapis.com/tensorflow/tf-keras-datasets/mnist.npz\n",
            "11493376/11490434 [==============================] - 0s 0us/step\n"
          ],
          "name": "stdout"
        }
      ]
    },
    {
      "cell_type": "code",
      "metadata": {
        "id": "Yw-iFQ7DyScn",
        "colab_type": "code",
        "colab": {}
      },
      "source": [
        "img_rows,img_cols = 28,28\n",
        "\n",
        "if k.image_data_format() == 'channels_first':\n",
        "    x_train = x_train.reshape(x_train.shape[0], 1, img_rows, img_cols)\n",
        "    x_test = x_test.reshape(x_test.shape[0], 1, img_rows, img_cols)\n",
        "    input_shape = (1, img_rows, img_cols)\n",
        "else:\n",
        "    x_train = x_train.reshape(x_train.shape[0], img_rows, img_cols, 1)\n",
        "    x_test = x_test.reshape(x_test.shape[0], img_rows, img_cols, 1)\n",
        "    input_shape = (img_rows, img_cols, 1)"
      ],
      "execution_count": 0,
      "outputs": []
    },
    {
      "cell_type": "markdown",
      "metadata": {
        "id": "rVkBpXATrTT7",
        "colab_type": "text"
      },
      "source": [
        "### Create Model"
      ]
    },
    {
      "cell_type": "code",
      "metadata": {
        "id": "-lDWZIH3qIB-",
        "colab_type": "code",
        "colab": {}
      },
      "source": [
        "model = tf.keras.models.Sequential()\n",
        "model.add(layers.Flatten())\n",
        "model.add(layers.Dense(128,activation='relu'))\n",
        "model.add(layers.Dense(128,activation='relu'))\n",
        "model.add(layers.Dense(10,activation='softmax'))"
      ],
      "execution_count": 0,
      "outputs": []
    },
    {
      "cell_type": "code",
      "metadata": {
        "id": "KDoh4GtDqc5X",
        "colab_type": "code",
        "colab": {}
      },
      "source": [
        "model = tf.keras.models.Sequential()\n",
        "model.add(layers.Conv2D(32,(5,5),activation='relu',input_shape=(28,28,1),padding='same'))\n",
        "model.add(layers.AveragePooling2D(pool_size=(2,2),strides=(2,2)))\n",
        "model.add(layers.Conv2D(64,(5,5),activation='relu',padding='same'))\n",
        "model.add(layers.AveragePooling2D(pool_size=(2,2),strides=(2,2)))\n",
        "model.add(layers.Flatten())\n",
        "model.add(layers.Dense(200,activation='relu')) \n",
        "model.add(layers.Dense(10,activation='softmax'))"
      ],
      "execution_count": 0,
      "outputs": []
    },
    {
      "cell_type": "code",
      "metadata": {
        "id": "SdHH1bPXxm98",
        "colab_type": "code",
        "colab": {}
      },
      "source": [
        "base_model = tf.keras.applications.vgg19.VGG19(include_top=False, weights='imagenet', input_tensor=None, input_shape=None, pooling=None, classes=10)\n",
        "model = tf.keras.models.Sequential()\n",
        "model.add(base_model)\n",
        "model.add(layers.Dense(100,activation='relu'))\n",
        "model.add(layers.Dense(10,activation='softmax'))"
      ],
      "execution_count": 0,
      "outputs": []
    },
    {
      "cell_type": "code",
      "metadata": {
        "id": "a8r3-lIas4j-",
        "colab_type": "code",
        "colab": {}
      },
      "source": [
        "# model.save_weights(filepath)\n",
        "# model.load_weights(filepath, by_name=False)\n",
        "new_model = tf.keras.models.load_model('saved_model/my_model')\n",
        "model.save('model_template.hdf5')"
      ],
      "execution_count": 0,
      "outputs": []
    },
    {
      "cell_type": "markdown",
      "metadata": {
        "id": "0GI7Q6tEsHF7",
        "colab_type": "text"
      },
      "source": [
        "Callbacks"
      ]
    },
    {
      "cell_type": "code",
      "metadata": {
        "id": "jX2PQkelsF5U",
        "colab_type": "code",
        "colab": {}
      },
      "source": [
        "# filename = '/content/drive/My Drive/log_fold_.csv'\n",
        "# filepath = '/content/drive/My Drive/model_fold.hdf5'\n",
        "# csv = tf.keras.callbacks.CSVLogger(filename, separator=',', append=False)  \n",
        "# model_checkpoint = tf.keras.callbacks.ModelCheckpoint(filepath, monitor='val_acc', verbose=0, save_best_only=False, save_weights_only=True, mode='max', period=1)"
      ],
      "execution_count": 0,
      "outputs": []
    },
    {
      "cell_type": "markdown",
      "metadata": {
        "id": "rcmhpMz2rY2v",
        "colab_type": "text"
      },
      "source": [
        "### Set  training parameter and train network"
      ]
    },
    {
      "cell_type": "code",
      "metadata": {
        "id": "A0uubn6yqRe2",
        "colab_type": "code",
        "colab": {
          "base_uri": "https://localhost:8080/",
          "height": 462
        },
        "outputId": "d5b6c989-b05d-467c-8661-4ee3ec6c0f37"
      },
      "source": [
        "opt = tf.keras.optimizers.SGD(lr=1e-3,momentum=0)\n",
        "model.compile(optimizer=opt,metrics=['accuracy'],loss='mse')\n",
        "model.fit(x_train,y_train,batch_size=32,validation_data=(x_test,y_test),epochs=10)#,callbacks=[csv_logger,tensorboard_callback])"
      ],
      "execution_count": 5,
      "outputs": [
        {
          "output_type": "stream",
          "text": [
            "WARNING:tensorflow:From /usr/local/lib/python3.6/dist-packages/tensorflow_core/python/ops/resource_variable_ops.py:1630: calling BaseResourceVariable.__init__ (from tensorflow.python.ops.resource_variable_ops) with constraint is deprecated and will be removed in a future version.\n",
            "Instructions for updating:\n",
            "If using Keras pass *_constraint arguments to layers.\n",
            "Train on 60000 samples, validate on 10000 samples\n",
            "Epoch 1/10\n",
            "60000/60000 [==============================] - 6s 105us/sample - loss: 0.0901 - acc: 0.1417 - val_loss: 0.0898 - val_acc: 0.1554\n",
            "Epoch 2/10\n",
            "60000/60000 [==============================] - 5s 82us/sample - loss: 0.0894 - acc: 0.1760 - val_loss: 0.0891 - val_acc: 0.1944\n",
            "Epoch 3/10\n",
            "60000/60000 [==============================] - 5s 79us/sample - loss: 0.0888 - acc: 0.2130 - val_loss: 0.0885 - val_acc: 0.2346\n",
            "Epoch 4/10\n",
            "60000/60000 [==============================] - 5s 77us/sample - loss: 0.0882 - acc: 0.2473 - val_loss: 0.0879 - val_acc: 0.2720\n",
            "Epoch 5/10\n",
            "60000/60000 [==============================] - 5s 80us/sample - loss: 0.0876 - acc: 0.2783 - val_loss: 0.0873 - val_acc: 0.3003\n",
            "Epoch 6/10\n",
            "60000/60000 [==============================] - 5s 81us/sample - loss: 0.0870 - acc: 0.3074 - val_loss: 0.0866 - val_acc: 0.3288\n",
            "Epoch 7/10\n",
            "60000/60000 [==============================] - 5s 80us/sample - loss: 0.0864 - acc: 0.3339 - val_loss: 0.0859 - val_acc: 0.3566\n",
            "Epoch 8/10\n",
            "60000/60000 [==============================] - 5s 81us/sample - loss: 0.0857 - acc: 0.3602 - val_loss: 0.0852 - val_acc: 0.3806\n",
            "Epoch 9/10\n",
            "60000/60000 [==============================] - 5s 80us/sample - loss: 0.0849 - acc: 0.3869 - val_loss: 0.0845 - val_acc: 0.4036\n",
            "Epoch 10/10\n",
            "60000/60000 [==============================] - 5s 75us/sample - loss: 0.0842 - acc: 0.4110 - val_loss: 0.0836 - val_acc: 0.4257\n"
          ],
          "name": "stdout"
        },
        {
          "output_type": "execute_result",
          "data": {
            "text/plain": [
              "<tensorflow.python.keras.callbacks.History at 0x7f386c44ddd8>"
            ]
          },
          "metadata": {
            "tags": []
          },
          "execution_count": 5
        }
      ]
    },
    {
      "cell_type": "code",
      "metadata": {
        "id": "2x4V3TNT24So",
        "colab_type": "code",
        "colab": {}
      },
      "source": [
        ""
      ],
      "execution_count": 0,
      "outputs": []
    }
  ]
}