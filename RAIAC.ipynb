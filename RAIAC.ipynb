{
  "nbformat": 4,
  "nbformat_minor": 0,
  "metadata": {
    "colab": {
      "name": "RAIAC.ipynb",
      "provenance": [],
      "collapsed_sections": [],
      "include_colab_link": true
    },
    "kernelspec": {
      "name": "python3",
      "display_name": "Python 3"
    },
    "accelerator": "GPU"
  },
  "cells": [
    {
      "cell_type": "markdown",
      "metadata": {
        "id": "view-in-github",
        "colab_type": "text"
      },
      "source": [
        "<a href=\"https://colab.research.google.com/github/harshavardhanguda/RAIAC/blob/master/RAIAC.ipynb\" target=\"_parent\"><img src=\"https://colab.research.google.com/assets/colab-badge.svg\" alt=\"Open In Colab\"/></a>"
      ]
    },
    {
      "cell_type": "markdown",
      "metadata": {
        "id": "rCP8Tka_q9Jl",
        "colab_type": "text"
      },
      "source": [
        "### Import libraries"
      ]
    },
    {
      "cell_type": "code",
      "metadata": {
        "id": "WAeU4Xl7oA9t",
        "colab_type": "code",
        "outputId": "e33a1527-1f28-43bd-b2f0-839ad0d6b10c",
        "colab": {
          "base_uri": "https://localhost:8080/",
          "height": 168
        }
      },
      "source": [
        "import numpy\n",
        "import tensorflow as tf\n",
        "from tensorflow.keras import layers\n",
        "import matplotlib.pyplot as plot\n",
        "from tensorflow.keras import backend as k\n",
        "from tensorflow.keras.datasets import mnist\n",
        "from google.colab import drive\n",
        "drive.mount('/content/drive')"
      ],
      "execution_count": 1,
      "outputs": [
        {
          "output_type": "display_data",
          "data": {
            "text/html": [
              "<p style=\"color: red;\">\n",
              "The default version of TensorFlow in Colab will soon switch to TensorFlow 2.x.<br>\n",
              "We recommend you <a href=\"https://www.tensorflow.org/guide/migrate\" target=\"_blank\">upgrade</a> now \n",
              "or ensure your notebook will continue to use TensorFlow 1.x via the <code>%tensorflow_version 1.x</code> magic:\n",
              "<a href=\"https://colab.research.google.com/notebooks/tensorflow_version.ipynb\" target=\"_blank\">more info</a>.</p>\n"
            ],
            "text/plain": [
              "<IPython.core.display.HTML object>"
            ]
          },
          "metadata": {
            "tags": []
          }
        },
        {
          "output_type": "stream",
          "text": [
            "Go to this URL in a browser: https://accounts.google.com/o/oauth2/auth?client_id=947318989803-6bn6qk8qdgf4n4g3pfee6491hc0brc4i.apps.googleusercontent.com&redirect_uri=urn%3aietf%3awg%3aoauth%3a2.0%3aoob&response_type=code&scope=email%20https%3a%2f%2fwww.googleapis.com%2fauth%2fdocs.test%20https%3a%2f%2fwww.googleapis.com%2fauth%2fdrive%20https%3a%2f%2fwww.googleapis.com%2fauth%2fdrive.photos.readonly%20https%3a%2f%2fwww.googleapis.com%2fauth%2fpeopleapi.readonly\n",
            "\n",
            "Enter your authorization code:\n",
            "··········\n",
            "Mounted at /content/drive\n"
          ],
          "name": "stdout"
        }
      ]
    },
    {
      "cell_type": "markdown",
      "metadata": {
        "id": "ZGsZYiR-rOAJ",
        "colab_type": "text"
      },
      "source": [
        "### Load Data"
      ]
    },
    {
      "cell_type": "code",
      "metadata": {
        "id": "xfu7VTuSqHJq",
        "colab_type": "code",
        "outputId": "43e15303-335a-4c93-df6b-372642d1f7db",
        "colab": {
          "base_uri": "https://localhost:8080/",
          "height": 51
        }
      },
      "source": [
        "(x_train,y_train),(x_test,y_test) = mnist.load_data()\n"
      ],
      "execution_count": 2,
      "outputs": [
        {
          "output_type": "stream",
          "text": [
            "Downloading data from https://storage.googleapis.com/tensorflow/tf-keras-datasets/mnist.npz\n",
            "11493376/11490434 [==============================] - 0s 0us/step\n"
          ],
          "name": "stdout"
        }
      ]
    },
    {
      "cell_type": "code",
      "metadata": {
        "id": "TiTdu17lBXlY",
        "colab_type": "code",
        "colab": {}
      },
      "source": [
        "plot.imshow(x_train[225], cmap = 'gray')"
      ],
      "execution_count": 0,
      "outputs": []
    },
    {
      "cell_type": "code",
      "metadata": {
        "id": "0HDN6fMzB3hc",
        "colab_type": "code",
        "colab": {}
      },
      "source": [
        "x_train = x_train.astype('float32')/255.0\n",
        "x_test = x_test.astype('float32')/255.0\n",
        "num_classes = 10\n",
        "y_train = tf.keras.utils.to_categorical(y_train, num_classes)\n",
        "y_test = tf.keras.utils.to_categorical(y_test, num_classes)"
      ],
      "execution_count": 0,
      "outputs": []
    },
    {
      "cell_type": "code",
      "metadata": {
        "id": "Yw-iFQ7DyScn",
        "colab_type": "code",
        "colab": {}
      },
      "source": [
        "img_rows,img_cols = 28,28\n",
        "\n",
        "if k.image_data_format() == 'channels_first':\n",
        "    x_train = x_train.reshape(x_train.shape[0], 1, img_rows, img_cols)\n",
        "    x_test = x_test.reshape(x_test.shape[0], 1, img_rows, img_cols)\n",
        "    input_shape = (1, img_rows, img_cols)\n",
        "else:\n",
        "    x_train = x_train.reshape(x_train.shape[0], img_rows, img_cols, 1)\n",
        "    x_test = x_test.reshape(x_test.shape[0], img_rows, img_cols, 1)\n",
        "    input_shape = (img_rows, img_cols, 1)"
      ],
      "execution_count": 0,
      "outputs": []
    },
    {
      "cell_type": "markdown",
      "metadata": {
        "id": "rVkBpXATrTT7",
        "colab_type": "text"
      },
      "source": [
        "### Create Model"
      ]
    },
    {
      "cell_type": "code",
      "metadata": {
        "id": "-lDWZIH3qIB-",
        "colab_type": "code",
        "colab": {
          "base_uri": "https://localhost:8080/",
          "height": 360
        },
        "outputId": "38d3988f-d895-465d-bf0d-440b1bbad669"
      },
      "source": [
        "model = tf.keras.models.Sequential()\n",
        "model.add(layers.Input((28,28,1)))\n",
        "model.add(layers.Flatten())\n",
        "model.add(layers.Dense(128,activation='relu'))\n",
        "model.add(layers.Dense(128,activation='relu'))\n",
        "model.add(layers.Dense(10,activation='softmax'))\n",
        "model.summary()"
      ],
      "execution_count": 5,
      "outputs": [
        {
          "output_type": "stream",
          "text": [
            "WARNING:tensorflow:From /usr/local/lib/python3.6/dist-packages/tensorflow_core/python/ops/resource_variable_ops.py:1630: calling BaseResourceVariable.__init__ (from tensorflow.python.ops.resource_variable_ops) with constraint is deprecated and will be removed in a future version.\n",
            "Instructions for updating:\n",
            "If using Keras pass *_constraint arguments to layers.\n",
            "Model: \"sequential\"\n",
            "_________________________________________________________________\n",
            "Layer (type)                 Output Shape              Param #   \n",
            "=================================================================\n",
            "flatten (Flatten)            (None, 784)               0         \n",
            "_________________________________________________________________\n",
            "dense (Dense)                (None, 128)               100480    \n",
            "_________________________________________________________________\n",
            "dense_1 (Dense)              (None, 128)               16512     \n",
            "_________________________________________________________________\n",
            "dense_2 (Dense)              (None, 10)                1290      \n",
            "=================================================================\n",
            "Total params: 118,282\n",
            "Trainable params: 118,282\n",
            "Non-trainable params: 0\n",
            "_________________________________________________________________\n"
          ],
          "name": "stdout"
        }
      ]
    },
    {
      "cell_type": "markdown",
      "metadata": {
        "id": "rcmhpMz2rY2v",
        "colab_type": "text"
      },
      "source": [
        "### Set  training parameter and train network"
      ]
    },
    {
      "cell_type": "code",
      "metadata": {
        "id": "A0uubn6yqRe2",
        "colab_type": "code",
        "colab": {
          "base_uri": "https://localhost:8080/",
          "height": 391
        },
        "outputId": "751fd52f-3f3e-4d4d-ab05-a926003c3b0c"
      },
      "source": [
        "opt = tf.keras.optimizers.SGD(lr=1e-2,momentum=0.9)\n",
        "model.compile(optimizer=opt,metrics=['accuracy'],loss='categorical_crossentropy')\n",
        "model.fit(x_train,y_train,batch_size=32,validation_data=(x_test,y_test),epochs=10)#,callbacks=[csv_logger,tensorboard_callback])"
      ],
      "execution_count": 6,
      "outputs": [
        {
          "output_type": "stream",
          "text": [
            "Train on 60000 samples, validate on 10000 samples\n",
            "Epoch 1/10\n",
            "60000/60000 [==============================] - 7s 109us/sample - loss: 0.2807 - acc: 0.9166 - val_loss: 0.1361 - val_acc: 0.9577\n",
            "Epoch 2/10\n",
            "60000/60000 [==============================] - 5s 80us/sample - loss: 0.1192 - acc: 0.9644 - val_loss: 0.1114 - val_acc: 0.9664\n",
            "Epoch 3/10\n",
            "60000/60000 [==============================] - 5s 80us/sample - loss: 0.0847 - acc: 0.9742 - val_loss: 0.0840 - val_acc: 0.9727\n",
            "Epoch 4/10\n",
            "60000/60000 [==============================] - 5s 78us/sample - loss: 0.0639 - acc: 0.9797 - val_loss: 0.0807 - val_acc: 0.9741\n",
            "Epoch 5/10\n",
            "60000/60000 [==============================] - 5s 81us/sample - loss: 0.0506 - acc: 0.9843 - val_loss: 0.0828 - val_acc: 0.9738\n",
            "Epoch 6/10\n",
            "60000/60000 [==============================] - 5s 82us/sample - loss: 0.0398 - acc: 0.9876 - val_loss: 0.0830 - val_acc: 0.9744\n",
            "Epoch 7/10\n",
            "60000/60000 [==============================] - 5s 79us/sample - loss: 0.0324 - acc: 0.9898 - val_loss: 0.0807 - val_acc: 0.9769\n",
            "Epoch 8/10\n",
            "60000/60000 [==============================] - 5s 81us/sample - loss: 0.0262 - acc: 0.9918 - val_loss: 0.0720 - val_acc: 0.9789\n",
            "Epoch 9/10\n",
            "60000/60000 [==============================] - 5s 80us/sample - loss: 0.0206 - acc: 0.9937 - val_loss: 0.0800 - val_acc: 0.9771\n",
            "Epoch 10/10\n",
            "60000/60000 [==============================] - 5s 78us/sample - loss: 0.0167 - acc: 0.9949 - val_loss: 0.0707 - val_acc: 0.9798\n"
          ],
          "name": "stdout"
        },
        {
          "output_type": "execute_result",
          "data": {
            "text/plain": [
              "<tensorflow.python.keras.callbacks.History at 0x7eff9a322630>"
            ]
          },
          "metadata": {
            "tags": []
          },
          "execution_count": 6
        }
      ]
    },
    {
      "cell_type": "code",
      "metadata": {
        "id": "78BORwkul3Ek",
        "colab_type": "code",
        "colab": {}
      },
      "source": [
        "path = 'content/drive/My Drive/model_template.hdf5'\n",
        "model.save(path)"
      ],
      "execution_count": 0,
      "outputs": []
    },
    {
      "cell_type": "code",
      "metadata": {
        "id": "mJVtdFecvU3R",
        "colab_type": "code",
        "colab": {
          "base_uri": "https://localhost:8080/",
          "height": 282
        },
        "outputId": "1474b268-3917-46d7-9730-5361e8c8a9c5"
      },
      "source": [
        "plot.imshow(x_test[250,:,:,0], cmap = 'gray')\n",
        "preds = model.predict(x_test[0:1])\n",
        "i = preds.argmax(axis=1)[0]\n",
        "print(\"The predicted number: \",i)"
      ],
      "execution_count": 13,
      "outputs": [
        {
          "output_type": "stream",
          "text": [
            "The predicted number:  7\n"
          ],
          "name": "stdout"
        },
        {
          "output_type": "display_data",
          "data": {
            "image/png": "[encoded data removed]",
            "text/plain": [
              "<Figure size 432x288 with 1 Axes>"
            ]
          },
          "metadata": {
            "tags": []
          }
        }
      ]
    },
    {
      "cell_type": "markdown",
      "metadata": {
        "id": "0GI7Q6tEsHF7",
        "colab_type": "text"
      },
      "source": [
        "Callbacks"
      ]
    },
    {
      "cell_type": "markdown",
      "metadata": {
        "id": "9NxiJMe7k1ZJ",
        "colab_type": "text"
      },
      "source": [
        "Transfer Learning"
      ]
    },
    {
      "cell_type": "code",
      "metadata": {
        "id": "2x4V3TNT24So",
        "colab_type": "code",
        "colab": {}
      },
      "source": [
        ""
      ],
      "execution_count": 0,
      "outputs": []
    }
  ]
}